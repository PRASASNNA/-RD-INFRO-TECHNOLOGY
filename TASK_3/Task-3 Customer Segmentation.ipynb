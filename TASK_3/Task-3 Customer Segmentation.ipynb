{
 "cells": [
  {
   "cell_type": "markdown",
   "id": "e34f8fbf",
   "metadata": {},
   "source": [
    "# Tasks 3:Customer Segmentation\n"
   ]
  },
  {
   "cell_type": "raw",
   "id": "6e10beba",
   "metadata": {},
   "source": [
    "Description: \n",
    "1.Segment customers based on tenure,\n",
    "monthly charges, and contract type.\n",
    "2.Analyze churn rates across these \n",
    "segments.\n",
    "\n",
    "Skills :\n",
    "Knowledge of customer segmentation\n",
    "methods (e.g., RFM analysis).\n",
    "Analytical skills to interpret segmented \n",
    "data."
   ]
  },
  {
   "cell_type": "markdown",
   "id": "87495655",
   "metadata": {},
   "source": [
    "# Importing Libraries"
   ]
  },
  {
   "cell_type": "code",
   "execution_count": 1,
   "id": "f96219d5",
   "metadata": {},
   "outputs": [],
   "source": [
    "import pandas as pd\n",
    "import matplotlib.pyplot as plt\n",
    "import seaborn as sns\n",
    "from sklearn.cluster import KMeans\n",
    "from sklearn.preprocessing import StandardScaler"
   ]
  },
  {
   "cell_type": "markdown",
   "id": "c11f75bb",
   "metadata": {},
   "source": [
    "# 1.Segment customers based on tenure,monthly charges, and contract type.\n"
   ]
  },
  {
   "cell_type": "code",
   "execution_count": 2,
   "id": "bad4b188",
   "metadata": {},
   "outputs": [
    {
     "name": "stderr",
     "output_type": "stream",
     "text": [
      "C:\\Users\\LENOVO\\anaconda3\\Lib\\site-packages\\sklearn\\cluster\\_kmeans.py:1412: FutureWarning: The default value of `n_init` will change from 10 to 'auto' in 1.4. Set the value of `n_init` explicitly to suppress the warning\n",
      "  super()._check_params_vs_input(X, default_n_init=10)\n",
      "C:\\Users\\LENOVO\\anaconda3\\Lib\\site-packages\\joblib\\externals\\loky\\backend\\context.py:110: UserWarning: Could not find the number of physical cores for the following reason:\n",
      "[WinError 2] The system cannot find the file specified\n",
      "Returning the number of logical cores instead. You can silence this warning by setting LOKY_MAX_CPU_COUNT to the number of cores you want to use.\n",
      "  warnings.warn(\n",
      "  File \"C:\\Users\\LENOVO\\anaconda3\\Lib\\site-packages\\joblib\\externals\\loky\\backend\\context.py\", line 199, in _count_physical_cores\n",
      "    cpu_info = subprocess.run(\n",
      "               ^^^^^^^^^^^^^^^\n",
      "  File \"C:\\Users\\LENOVO\\anaconda3\\Lib\\subprocess.py\", line 548, in run\n",
      "    with Popen(*popenargs, **kwargs) as process:\n",
      "         ^^^^^^^^^^^^^^^^^^^^^^^^^^^\n",
      "  File \"C:\\Users\\LENOVO\\anaconda3\\Lib\\subprocess.py\", line 1026, in __init__\n",
      "    self._execute_child(args, executable, preexec_fn, close_fds,\n",
      "  File \"C:\\Users\\LENOVO\\anaconda3\\Lib\\subprocess.py\", line 1538, in _execute_child\n",
      "    hp, ht, pid, tid = _winapi.CreateProcess(executable, args,\n",
      "                       ^^^^^^^^^^^^^^^^^^^^^^^^^^^^^^^^^^^^^^^\n"
     ]
    },
    {
     "name": "stdout",
     "output_type": "stream",
     "text": [
      "Cluster Centers:\n",
      "     tenure  MonthlyCharges  Contract_Month-to-month  Contract_One year  \\\n",
      "0  0.992039       -0.132645                -1.105891          -0.514213   \n",
      "1 -0.583665        0.054397                 0.904120          -0.514213   \n",
      "2  0.393887        0.009535                -1.105891           1.944444   \n",
      "\n",
      "   Contract_Two year  \n",
      "0           1.776152  \n",
      "1          -0.562935  \n",
      "2          -0.562935  \n"
     ]
    }
   ],
   "source": [
    "import pandas as pd\n",
    "import matplotlib.pyplot as plt\n",
    "import seaborn as sns\n",
    "\n",
    "# Load dataset\n",
    "data = pd.read_csv(\"encoded_dataset.csv\")\n",
    "\n",
    "# Customer Segmentation\n",
    "# Segment customers based on tenure, monthly charges, and contract type\n",
    "# You can use K-means clustering, or any other segmentation technique based on your requirement\n",
    "\n",
    "# For example, using K-means clustering\n",
    "from sklearn.cluster import KMeans\n",
    "\n",
    "# Select features for segmentation\n",
    "features = ['tenure', 'MonthlyCharges', 'Contract_Month-to-month', 'Contract_One year', 'Contract_Two year']\n",
    "X = data[features]\n",
    "\n",
    "# Normalize features\n",
    "X = (X - X.mean()) / X.std()\n",
    "\n",
    "# Choose the number of clusters\n",
    "k = 3\n",
    "\n",
    "# Perform K-means clustering\n",
    "kmeans = KMeans(n_clusters=k, random_state=42)\n",
    "data['Cluster'] = kmeans.fit_predict(X)\n",
    "\n",
    "#Print the cluster centers\n",
    "print(\"Cluster Centers:\")\n",
    "print(pd.DataFrame(kmeans.cluster_centers_, columns=features))\n"
   ]
  },
  {
   "cell_type": "code",
   "execution_count": 3,
   "id": "ac2a6f91",
   "metadata": {},
   "outputs": [
    {
     "name": "stdout",
     "output_type": "stream",
     "text": [
      "Segmented Customers:\n",
      "   tenure  MonthlyCharges  Contract_Month-to-month  Contract_One year  \\\n",
      "0       1           29.85                     True              False   \n",
      "1      34           56.95                    False               True   \n",
      "2       2           53.85                     True              False   \n",
      "3      45           42.30                    False               True   \n",
      "4       2           70.70                     True              False   \n",
      "5       8           99.65                     True              False   \n",
      "6      22           89.10                     True              False   \n",
      "7      10           29.75                     True              False   \n",
      "8      28          104.80                     True              False   \n",
      "9      62           56.15                    False               True   \n",
      "\n",
      "   Contract_Two year  Cluster  \n",
      "0              False        1  \n",
      "1              False        2  \n",
      "2              False        1  \n",
      "3              False        2  \n",
      "4              False        1  \n",
      "5              False        1  \n",
      "6              False        1  \n",
      "7              False        1  \n",
      "8              False        1  \n",
      "9              False        2  \n"
     ]
    }
   ],
   "source": [
    "# Display the segmented customers\n",
    "print(\"Segmented Customers:\")\n",
    "print(data[['tenure', 'MonthlyCharges', 'Contract_Month-to-month','Contract_One year','Contract_Two year', 'Cluster']].head(10))"
   ]
  },
  {
   "cell_type": "markdown",
   "id": "563102f3",
   "metadata": {},
   "source": [
    "# 2.Analyze churn rates across these segments."
   ]
  },
  {
   "cell_type": "code",
   "execution_count": 4,
   "id": "34bcdfeb",
   "metadata": {},
   "outputs": [
    {
     "data": {
      "image/png": "[encoded data removed]",
      "text/plain": [
       "<Figure size 1000x600 with 1 Axes>"
      ]
     },
     "metadata": {},
     "output_type": "display_data"
    }
   ],
   "source": [
    "# Analyze churn rates across segments\n",
    "# Plot churn rates across clusters\n",
    "plt.figure(figsize=(10, 6))\n",
    "sns.countplot(x='Cluster', hue='Churn', data=data)\n",
    "plt.title('Churn Rates Across Segments')\n",
    "plt.xlabel('Segment')\n",
    "plt.ylabel('Count')\n",
    "plt.legend(title='Churn', loc='upper right')\n",
    "plt.show()\n"
   ]
  },
  {
   "cell_type": "code",
   "execution_count": null,
   "id": "563506d2",
   "metadata": {},
   "outputs": [],
   "source": []
  }
 ],
 "metadata": {
  "kernelspec": {
   "display_name": "Python 3 (ipykernel)",
   "language": "python",
   "name": "python3"
  },
  "language_info": {
   "codemirror_mode": {
    "name": "ipython",
    "version": 3
   },
   "file_extension": ".py",
   "mimetype": "text/x-python",
   "name": "python",
   "nbconvert_exporter": "python",
   "pygments_lexer": "ipython3",
   "version": "3.11.5"
  }
 },
 "nbformat": 4,
 "nbformat_minor": 5
}
